{
 "cells": [
  {
   "cell_type": "code",
   "execution_count": null,
   "metadata": {
    "collapsed": false
   },
   "outputs": [],
   "source": [
    "from p2 import *\n",
    "from random import randint\n",
    "\n",
    "def generateNew():\n",
    "    Gridlist = []\n",
    "    for i in range(1):\n",
    "        newY = []\n",
    "        for y in range(512):\n",
    "            newx = []\n",
    "            for x in range(512):\n",
    "                prob = randint(0,100)\n",
    "                if prob>25: \n",
    "                    newx.append('.')\n",
    "                else:\n",
    "                    newx.append('*')\n",
    "            newY.append(newx)\n",
    "        Gridlist.append(newY)\n",
    "    pointlist = []\n",
    "    for point in range(20):\n",
    "        pointlist.append(((randint(0,100), randint(0,100)), (randint(0,100), randint(0,100))))\n",
    "        \n",
    "    return Gridlist, pointlist\n",
    "\n",
    "\n"
   ]
  },
  {
   "cell_type": "code",
   "execution_count": null,
   "metadata": {
    "collapsed": false
   },
   "outputs": [],
   "source": [
    "import threading\n",
    "\n",
    "def worker(p,path,i, opena, closed, itern):\n",
    "    initNode = Node(p, None, i[1], i[0])\n",
    "    nn, maxopen, maxclosed = Astar(initNode, 'M')\n",
    "    #t= threading.Thread(target=Astar, args =(initNode, 'M'))\n",
    "    movelist = []\n",
    "\n",
    "    while nn != None and  nn != -1:\n",
    "        movelist.insert(0,'0')\n",
    "        nn = nn.parent\n",
    "    if nn == -1: \n",
    "        path += 0\n",
    "    else: \n",
    "        path += len(''.join(movelist))\n",
    "    #print(path)\n",
    "    opena += maxopen\n",
    "    closed += maxclosed\n",
    "    itern += 1\n",
    "    print(path/itern, opena/itern, closed/itern)\n",
    "    return\n",
    "    \n",
    "\n",
    "def ogworker():\n",
    "    grids, positions =  generateNew()\n",
    "    p = NxNGrid()\n",
    "    p.grid = grids[0]\n",
    "    p.dim = 512\n",
    "    for y in range(512):\n",
    "        for x in range(512):\n",
    "            if(p.grid[y][x] == \"*\"): p.obs.append((x,y))\n",
    "    path = 0\n",
    "    opena = 0\n",
    "    closed = 0\n",
    "    itern = 0\n",
    "    #print(\"starting position testing\")\n",
    "    threads = []\n",
    "    for i in positions:\n",
    "        t = threading.Thread(target=worker, args=(p, path,i, opena, closed, itern))\n",
    "        threads.append(t)\n",
    "        t.start()\n",
    "    return\n",
    "    \n",
    "    \n",
    "        #print(nn, maxopen, maxclosed)\n",
    "threads1 = []\n",
    "for run in range(100):\n",
    "    print(\"spawning thread\")\n",
    "    t = threading.Thread(target=ogworker)\n",
    "    threads1.append(t)\n",
    "    t.start()\n",
    "    "
   ]
  },
  {
   "cell_type": "code",
   "execution_count": null,
   "metadata": {
    "collapsed": false
   },
   "outputs": [],
   "source": []
  },
  {
   "cell_type": "code",
   "execution_count": null,
   "metadata": {
    "collapsed": true
   },
   "outputs": [],
   "source": []
  }
 ],
 "metadata": {
  "anaconda-cloud": {},
  "kernelspec": {
   "display_name": "Python [conda root]",
   "language": "python",
   "name": "conda-root-py"
  },
  "language_info": {
   "codemirror_mode": {
    "name": "ipython",
    "version": 3
   },
   "file_extension": ".py",
   "mimetype": "text/x-python",
   "name": "python",
   "nbconvert_exporter": "python",
   "pygments_lexer": "ipython3",
   "version": "3.5.2"
  }
 },
 "nbformat": 4,
 "nbformat_minor": 2
}
