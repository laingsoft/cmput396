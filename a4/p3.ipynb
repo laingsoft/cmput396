{
 "cells": [
  {
   "cell_type": "code",
   "execution_count": 19,
   "metadata": {
    "collapsed": false
   },
   "outputs": [],
   "source": [
    "from p3 import *\n",
    "from random import randint\n",
    "\n",
    "def generateNew():\n",
    "    Gridlist = []\n",
    "    for i in range(1):\n",
    "        newY = []\n",
    "        for y in range(512):\n",
    "            newx = []\n",
    "            for x in range(512):\n",
    "                prob = randint(0,100)\n",
    "                if prob>25: \n",
    "                    newx.append('.')\n",
    "                else:\n",
    "                    newx.append('*')\n",
    "            newY.append(newx)\n",
    "        Gridlist.append(newY)\n",
    "    pointlist = []\n",
    "    for point in range(20):\n",
    "        pointlist.append(((randint(0,100), randint(0,100)), (randint(0,100), randint(0,100))))\n",
    "        \n",
    "    return Gridlist, pointlist\n",
    "\n",
    "\n"
   ]
  },
  {
   "cell_type": "code",
   "execution_count": null,
   "metadata": {
    "collapsed": false
   },
   "outputs": [
    {
     "name": "stdout",
     "output_type": "stream",
     "text": [
      "starting position testing\n",
      "35\n"
     ]
    }
   ],
   "source": [
    "for run in range(1):\n",
    "    grids, positions =  generateNew()\n",
    "    p = NxNGrid()\n",
    "    p.grid = grids[0]\n",
    "    p.dim = 512\n",
    "    for y in range(512):\n",
    "        for x in range(512):\n",
    "            if(p.grid[y][x] == \"*\"): p.obs.append((x,y))\n",
    "    path = 0\n",
    "    opena = 0\n",
    "    closed = 0\n",
    "    itern = 0\n",
    "    print(\"starting position testing\")\n",
    "    for i in positions:\n",
    "        itern += 1\n",
    "        initNode = Node(p, None, i[1], i[0])\n",
    "        nn, maxopen, maxclosed = Astar(initNode, 'M')\n",
    "        movelist = []\n",
    "        while nn != None and  nn != -1:\n",
    "            movelist.insert(0,'0')\n",
    "            nn = nn.parent\n",
    "        if nn == -1: \n",
    "            path += 0\n",
    "        else: \n",
    "            path += len(''.join(movelist))\n",
    "        print(path)\n",
    "        opena += maxopen\n",
    "        closed += maxclosed\n",
    "    print(path/itern, opena/itern, closed/itern)\n",
    "        #print(nn, maxopen, maxclosed)"
   ]
  },
  {
   "cell_type": "code",
   "execution_count": null,
   "metadata": {
    "collapsed": false
   },
   "outputs": [],
   "source": []
  },
  {
   "cell_type": "code",
   "execution_count": null,
   "metadata": {
    "collapsed": true
   },
   "outputs": [],
   "source": []
  }
 ],
 "metadata": {
  "kernelspec": {
   "display_name": "Python 2",
   "language": "python",
   "name": "python2"
  },
  "language_info": {
   "codemirror_mode": {
    "name": "ipython",
    "version": 2
   },
   "file_extension": ".py",
   "mimetype": "text/x-python",
   "name": "python",
   "nbconvert_exporter": "python",
   "pygments_lexer": "ipython2",
   "version": "2.7.13"
  }
 },
 "nbformat": 4,
 "nbformat_minor": 2
}
